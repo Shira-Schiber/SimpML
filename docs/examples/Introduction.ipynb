{
 "cells": [
  {
   "cell_type": "markdown",
   "id": "southeast-africa",
   "metadata": {
    "Collapsed": "false"
   },
   "source": [
    "# Introduction"
   ]
  },
  {
   "cell_type": "markdown",
   "id": "altered-engineer",
   "metadata": {
    "Collapsed": "false"
   },
   "source": [
    "## Welcome to SimpML"
   ]
  },
  {
   "cell_type": "markdown",
   "id": "prerequisite-childhood",
   "metadata": {
    "Collapsed": "false"
   },
   "source": [
    "![image info](resources/SimpML_Logo.png)"
   ]
  },
  {
   "cell_type": "markdown",
   "id": "olympic-cover",
   "metadata": {
    "Collapsed": "false"
   },
   "source": [
    "SimpML is an open source No/low code machine learning library in python that automates machine learning workflows.\n",
    "\n",
    "By using NIAI you build your desired machine learning pipeline with few lines of code which shorten your time-to-model dramatically.\n",
    "\n",
    "More info including video training can be found here [SimpML](https://optimalplus.atlassian.net/wiki/spaces/DS/pages/3431432203/NIAI.Tabular)."
   ]
  },
  {
   "cell_type": "markdown",
   "id": "dominant-intersection",
   "metadata": {
    "Collapsed": "false"
   },
   "source": [
    "## About SimpML"
   ]
  },
  {
   "cell_type": "markdown",
   "id": "british-teaching",
   "metadata": {
    "Collapsed": "false"
   },
   "source": [
    "SimpML design was inspired by real life data scientists workflows and challenges. \n",
    "\n",
    "It natively supports the two paradigms in machine learning of data centric approach and model centric approach at one place.\n",
    "\n",
    "After building model training pipeline it enables you to easily package it and deploy inference pipeline to production.\n"
   ]
  },
  {
   "cell_type": "markdown",
   "id": "casual-tours",
   "metadata": {
    "Collapsed": "false"
   },
   "source": [
    "SimpML is essentially a python wrapper of industry standards machine learning libraries such as: \n",
    "\n",
    "- Scikit-learn\n",
    "- XGboost\n",
    "- Otuna\n",
    "- Shap\n",
    "- Imbalanced-learn \n",
    "- and more \n",
    "\n",
    "While using best practices from real world experience it has flexibility to implement your own custom logics and share it easily between different data scientists in the organization.\n"
   ]
  },
  {
   "cell_type": "markdown",
   "id": "neither-projection",
   "metadata": {
    "Collapsed": "false"
   },
   "source": [
    "## SimpML main components:"
   ]
  },
  {
   "cell_type": "markdown",
   "id": "viral-productivity",
   "metadata": {
    "Collapsed": "false"
   },
   "source": [
    "SimpML provides the main components:"
   ]
  },
  {
   "cell_type": "markdown",
   "id": "confidential-bryan",
   "metadata": {
    "Collapsed": "false"
   },
   "source": [
    "![image info](resources/Schema.png)"
   ]
  },
  {
   "cell_type": "markdown",
   "id": "african-treasure",
   "metadata": {
    "Collapsed": "false",
    "tags": []
   },
   "source": [
    "### Preprocess\n",
    "\n",
    "- includes all needed preprocess steps needed such as: \n",
    "    - pivot\n",
    "    - imputation\n",
    "    - data split (random, time-based, etc.)\n",
    "    - encoding\n",
    "    - balancing \n",
    "    - and many more?\n",
    "\n",
    "  - You build once your preprocess pipeline and it will run automatically on you inference data.\n",
    "\n",
    "\n",
    "### Modelling\n",
    "\n",
    "- Rich experiment manager with:\n",
    "    - hyper parameters optimizations\n",
    "    - cross models and cross datasets comparison\n",
    "    - full integration with ML-Flow \n",
    "    - and many more\n",
    "\n",
    "\n",
    "### Interpretation\n",
    "\n",
    "- includes rich visualizations and error analysis to understand your trained model such as: \n",
    "    - features importance\n",
    "    - bias-variance\n",
    "    - leakage detector\n",
    "    - local (SHAP-based) and global interpretation\n",
    "    - identification of \"bad\" features that impair model performance \n",
    "    - and many more. \n"
   ]
  }
 ],
 "metadata": {
  "jupytext": {
   "text_representation": {
    "extension": ".py",
    "format_name": "percent",
    "format_version": "1.3",
    "jupytext_version": "1.13.0"
   }
  },
  "kernelspec": {
   "display_name": "Python 3",
   "language": "python",
   "name": "python3"
  },
  "language_info": {
   "codemirror_mode": {
    "name": "ipython",
    "version": 3
   },
   "file_extension": ".py",
   "mimetype": "text/x-python",
   "name": "python",
   "nbconvert_exporter": "python",
   "pygments_lexer": "ipython3",
   "version": "3.8.13"
  }
 },
 "nbformat": 4,
 "nbformat_minor": 5
}
