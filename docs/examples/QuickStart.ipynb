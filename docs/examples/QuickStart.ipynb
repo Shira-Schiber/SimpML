{
 "cells": [
  {
   "cell_type": "code",
   "execution_count": null,
   "id": "78fdca40-afc3-43b4-a49a-6141d87ff72f",
   "metadata": {},
   "outputs": [],
   "source": [
    "%load_ext autoreload\n",
    "%autoreload 2\n",
    "\n",
    "import sys\n",
    "from pathlib import Path\n",
    "cwd = Path.cwd()\n",
    "ROOT_PATH = str(cwd.parent.parent.parent.parent)\n",
    "sys.path.append(ROOT_PATH)"
   ]
  },
  {
   "cell_type": "markdown",
   "id": "gothic-demographic",
   "metadata": {
    "Collapsed": "false",
    "tags": []
   },
   "source": [
    "# Quick Start"
   ]
  },
  {
   "cell_type": "markdown",
   "id": "compound-gallery",
   "metadata": {
    "Collapsed": "false",
    "tags": []
   },
   "source": [
    "## Install SimpML"
   ]
  },
  {
   "cell_type": "markdown",
   "id": "virtual-upgrade",
   "metadata": {
    "Collapsed": "false"
   },
   "source": [
    "As the compiled SimpML package is hosted on Local Python Package Index (PyPI) you can easily install it with pip but first of need to make sure there is a mount:\n",
    "\n",
    "### mount\n",
    "\n",
    "From: <code>\\\\opfiles\\Public\\DS </code> To: <code>YOUR_PATH</code>\n",
    "\n",
    "Then, run the following command:\n",
    "\n",
    "### pip\n",
    "\n",
    "<code>pip install simpml --find-links YOUR_PATH/niai</code>"
   ]
  },
  {
   "cell_type": "markdown",
   "id": "multiple-satisfaction",
   "metadata": {
    "Collapsed": "false"
   },
   "source": [
    "## SimpML’s applications all use the same basic steps and code:"
   ]
  },
  {
   "cell_type": "markdown",
   "id": "unusual-bearing",
   "metadata": {
    "Collapsed": "false"
   },
   "source": [
    "- Create a DataManager with appropriate Pre-Processing Pipeline\n",
    "- Create a ExperimentManager\n",
    "- Call to run_experiment method\n",
    "- Get the model with the best performance\n",
    "- Make predictions or view the results\n",
    "- Create a Interpreter\n",
    "- Get insights and see the interpretation of your model\n",
    "\n",
    "In this quick start, we’ll show these steps for a wide range of difference applications and datasets. As you’ll see, the code in each case is extremely similar, despite the very different models and data being used."
   ]
  },
  {
   "cell_type": "code",
   "execution_count": 2,
   "id": "charitable-circus",
   "metadata": {
    "Collapsed": "false"
   },
   "outputs": [],
   "source": [
    "from simpml.tabular.all import *\n",
    "from simpml.vision.all import *"
   ]
  }
 ],
 "metadata": {
  "jupytext": {
   "encoding": "# -*- coding: utf-8 -*-",
   "text_representation": {
    "extension": ".py",
    "format_name": "light",
    "format_version": "1.5",
    "jupytext_version": "1.5.2"
   }
  },
  "kernelspec": {
   "display_name": "tensorflow",
   "language": "python",
   "name": "tensorflow"
  },
  "language_info": {
   "codemirror_mode": {
    "name": "ipython",
    "version": 3
   },
   "file_extension": ".py",
   "mimetype": "text/x-python",
   "name": "python",
   "nbconvert_exporter": "python",
   "pygments_lexer": "ipython3",
   "version": "3.8.1"
  }
 },
 "nbformat": 4,
 "nbformat_minor": 5
}
