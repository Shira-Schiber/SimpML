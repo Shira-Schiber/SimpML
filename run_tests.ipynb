{
 "cells": [
  {
   "cell_type": "code",
   "execution_count": 1,
   "id": "44d24ae9-266e-49eb-9687-a4743c37d00b",
   "metadata": {
    "tags": []
   },
   "outputs": [],
   "source": [
    "import glob\n",
    "import importlib.util\n",
    "import contextlib\n",
    "import os\n",
    "import pandas as pd\n",
    "import traceback\n",
    "from IPython.display import display, HTML, clear_output\n",
    "import matplotlib.pyplot as plt\n",
    "import os\n",
    "import subprocess\n",
    "\n",
    "def pretty_print(df):\n",
    "    return display(HTML(df.to_html(escape=False).replace(\"<td>\", \"<td style='text-align: left;'>\")))\n",
    "\n",
    "def pie_plot_tests(passed_tests, failed_tests):\n",
    "    plt.figure(figsize=(8, 8))\n",
    "    total_tests = passed_tests + failed_tests\n",
    "    plt.pie([passed_tests, failed_tests], labels=['Passed', 'Failed'], autopct='%1.1f%%', colors=['green', 'red'])\n",
    "    plt.title('Test Results')\n",
    "    plt.text(0, 0, f'Total tests: {total_tests}\\nPassed: {passed_tests}\\nFailed: {failed_tests}', \n",
    "             horizontalalignment='center', verticalalignment='center', fontsize=12, bbox=dict(facecolor='white', alpha=0.8))\n",
    "    plt.show()\n",
    "\n",
    "def run_tests(test_fn = 'tests'):\n",
    "    test_files = glob.glob(f'./{test_fn}/*.py')\n",
    "    failed_tests_df = pd.DataFrame(columns=['File', 'Test', 'Error', 'Traceback'])\n",
    "    passed_tests = 0\n",
    "    failed_tests = 0\n",
    "    html_outputs = []  # list to store HTML outputs\n",
    "    # For each test file\n",
    "    for test_file in test_files:\n",
    "        # Print the file name\n",
    "        html_outputs.append(HTML(f'<h3>Running tests from {os.path.basename(test_file)}...</h2>'))\n",
    "        # Define __file__ as the path of the test file\n",
    "        __file__ = test_file\n",
    "        # Load the script as a module\n",
    "        spec = importlib.util.spec_from_file_location('__main__', test_file)\n",
    "        module = importlib.util.module_from_spec(spec)\n",
    "        spec.loader.exec_module(module)\n",
    "        # Get a list of all test functions (functions whose name starts with 'test_')\n",
    "        test_functions = [getattr(module, name) for name in dir(module) if name.startswith('test_') and callable(getattr(module, name))]\n",
    "        # For each test function\n",
    "        for test_function in test_functions:\n",
    "            html_outputs.append(HTML(f'<h4><p> &nbsp;&nbsp;&nbsp;&nbsp;Running {test_function.__name__}...</p>'))\n",
    "            # Try to call the function, suppressing its output\n",
    "            try:\n",
    "                test_function()\n",
    "                passed_tests+=1\n",
    "                html_outputs.append(HTML(f'<p style=\"color:green;\">&nbsp;&nbsp;&nbsp;&nbsp&nbsp;&nbsp;&nbsp;&nbsp;Successfully end to ran {test_function.__name__}</p>'))\n",
    "            except Exception as e:\n",
    "                failed_tests+=1\n",
    "                tb = traceback.format_exc()\n",
    "                html_outputs.append(HTML(f'<p style=\"color:red;\">&nbsp;&nbsp;&nbsp;&nbsp&nbsp;&nbsp;&nbsp;&nbsp;Error running {test_function.__name__}: {e}</p>'))\n",
    "                tb_html = tb.replace('\\n', '<br>')\n",
    "                failed_tests_df = pd.concat([failed_tests_df, pd.DataFrame([{'File': test_file, 'Test': test_function.__name__, 'Error': str(e), 'Traceback': tb_html}])], ignore_index=True)\n",
    "            clear_output(wait=True)  # clear cell output after running each test\n",
    "    for html_output in html_outputs: display(html_output)\n",
    "    pie_plot_tests(passed_tests, failed_tests)\n",
    "    pretty_print(failed_tests_df)\n",
    "    return failed_tests_df\n",
    "\n",
    "def process_python_files(directory = 'simpml'):\n",
    "    \"\"\"\n",
    "    Loop through all Python files in the directory tree and run the specified commands on them.\n",
    "\n",
    "    Parameters:\n",
    "    - directory (str): The root directory to start the search.\n",
    "    \"\"\"\n",
    "    \n",
    "    # Create an empty DataFrame to store failures\n",
    "    failures_df = pd.DataFrame(columns=[\"File Path\", \"Command\", \"Output\"])\n",
    "    \n",
    "    # Walk through the directory tree\n",
    "    for root, dirs, files in os.walk(directory):\n",
    "        # Skip unwanted directories\n",
    "        dirs[:] = [d for d in dirs if d not in ['.ipynb_checkpoints', '__pycache__']]\n",
    "        \n",
    "        # Display the folder name with <h3> tag\n",
    "        folder_name = os.path.basename(root)\n",
    "        display(HTML(f\"<h3 style='margin-left: {10 * root.count(os.sep)}px'>{folder_name}</h3>\"))\n",
    "        \n",
    "        for file in files:\n",
    "            # Check if the file is a Python file\n",
    "            if file.endswith('.py'):\n",
    "                file_path = os.path.join(root, file)\n",
    "                \n",
    "                # Display the file path with <h4> tag\n",
    "                display(HTML(f\"<h4 style='margin-left: {10 * file_path.count(os.sep)}px'>{file}</h4>\"))\n",
    "                \n",
    "                # Run the commands on the Python file and capture the output\n",
    "                for command in [[\"isort\", file_path], [\"flake8\", file_path], [\"black\", file_path], [\"mypy\", file_path]]:\n",
    "                    result = subprocess.run(command, capture_output=True, text=True)\n",
    "                    \n",
    "                    # Print the output and success/failure messages\n",
    "                    if result.returncode == 0:\n",
    "                        display(HTML(f\"<div style='color: green; margin-left: {10 * (file_path.count(os.sep) + 1)}px;'>Success running {command[0]}</div>\"))\n",
    "                    else:\n",
    "                        display(HTML(f\"<div style='color: red; margin-left: {10 * (file_path.count(os.sep) + 1)}px;'>Failure running {command[0]}</div>\"))\n",
    "                        display(HTML(f\"<div style='color: red; margin-left: {10 * (file_path.count(os.sep) + 2)}px; white-space: pre-wrap;'>{result.stdout}</div>\"))\n",
    "                        error_data = pd.DataFrame({\n",
    "                            \"File Path\": [file_path],\n",
    "                            \"Command\": [command[0]],\n",
    "                            \"Output\": [result.stdout]\n",
    "                        })\n",
    "                        failures_df = pd.concat([failures_df, error_data], ignore_index=True)\n",
    "    pretty_print(failures_df)\n",
    "    # Return the failures DataFrame\n",
    "    return failures_df"
   ]
  },
  {
   "cell_type": "code",
   "execution_count": 2,
   "id": "1c8aeaca-9c03-4a74-83d3-0f61813ffe29",
   "metadata": {
    "tags": []
   },
   "outputs": [
    {
     "data": {
      "text/html": [
       "<h3 style='margin-left: 0px'>simpml</h3>"
      ],
      "text/plain": [
       "<IPython.core.display.HTML object>"
      ]
     },
     "metadata": {},
     "output_type": "display_data"
    },
    {
     "data": {
      "text/html": [
       "<h4 style='margin-left: 10px'>__init__.py</h4>"
      ],
      "text/plain": [
       "<IPython.core.display.HTML object>"
      ]
     },
     "metadata": {},
     "output_type": "display_data"
    },
    {
     "data": {
      "text/html": [
       "<div style='color: green; margin-left: 20px;'>Success running isort</div>"
      ],
      "text/plain": [
       "<IPython.core.display.HTML object>"
      ]
     },
     "metadata": {},
     "output_type": "display_data"
    },
    {
     "data": {
      "text/html": [
       "<div style='color: green; margin-left: 20px;'>Success running flake8</div>"
      ],
      "text/plain": [
       "<IPython.core.display.HTML object>"
      ]
     },
     "metadata": {},
     "output_type": "display_data"
    },
    {
     "data": {
      "text/html": [
       "<div style='color: green; margin-left: 20px;'>Success running black</div>"
      ],
      "text/plain": [
       "<IPython.core.display.HTML object>"
      ]
     },
     "metadata": {},
     "output_type": "display_data"
    },
    {
     "data": {
      "text/html": [
       "<div style='color: green; margin-left: 20px;'>Success running mypy</div>"
      ],
      "text/plain": [
       "<IPython.core.display.HTML object>"
      ]
     },
     "metadata": {},
     "output_type": "display_data"
    },
    {
     "data": {
      "text/html": [
       "<h3 style='margin-left: 10px'>core</h3>"
      ],
      "text/plain": [
       "<IPython.core.display.HTML object>"
      ]
     },
     "metadata": {},
     "output_type": "display_data"
    },
    {
     "data": {
      "text/html": [
       "<h4 style='margin-left: 20px'>__init__.py</h4>"
      ],
      "text/plain": [
       "<IPython.core.display.HTML object>"
      ]
     },
     "metadata": {},
     "output_type": "display_data"
    },
    {
     "data": {
      "text/html": [
       "<div style='color: green; margin-left: 30px;'>Success running isort</div>"
      ],
      "text/plain": [
       "<IPython.core.display.HTML object>"
      ]
     },
     "metadata": {},
     "output_type": "display_data"
    },
    {
     "data": {
      "text/html": [
       "<div style='color: green; margin-left: 30px;'>Success running flake8</div>"
      ],
      "text/plain": [
       "<IPython.core.display.HTML object>"
      ]
     },
     "metadata": {},
     "output_type": "display_data"
    },
    {
     "data": {
      "text/html": [
       "<div style='color: green; margin-left: 30px;'>Success running black</div>"
      ],
      "text/plain": [
       "<IPython.core.display.HTML object>"
      ]
     },
     "metadata": {},
     "output_type": "display_data"
    },
    {
     "data": {
      "text/html": [
       "<div style='color: green; margin-left: 30px;'>Success running mypy</div>"
      ],
      "text/plain": [
       "<IPython.core.display.HTML object>"
      ]
     },
     "metadata": {},
     "output_type": "display_data"
    },
    {
     "data": {
      "text/html": [
       "<h4 style='margin-left: 20px'>data_set.py</h4>"
      ],
      "text/plain": [
       "<IPython.core.display.HTML object>"
      ]
     },
     "metadata": {},
     "output_type": "display_data"
    },
    {
     "data": {
      "text/html": [
       "<div style='color: green; margin-left: 30px;'>Success running isort</div>"
      ],
      "text/plain": [
       "<IPython.core.display.HTML object>"
      ]
     },
     "metadata": {},
     "output_type": "display_data"
    },
    {
     "data": {
      "text/html": [
       "<div style='color: green; margin-left: 30px;'>Success running flake8</div>"
      ],
      "text/plain": [
       "<IPython.core.display.HTML object>"
      ]
     },
     "metadata": {},
     "output_type": "display_data"
    },
    {
     "data": {
      "text/html": [
       "<div style='color: green; margin-left: 30px;'>Success running black</div>"
      ],
      "text/plain": [
       "<IPython.core.display.HTML object>"
      ]
     },
     "metadata": {},
     "output_type": "display_data"
    },
    {
     "data": {
      "text/html": [
       "<div style='color: green; margin-left: 30px;'>Success running mypy</div>"
      ],
      "text/plain": [
       "<IPython.core.display.HTML object>"
      ]
     },
     "metadata": {},
     "output_type": "display_data"
    },
    {
     "data": {
      "text/html": [
       "<h4 style='margin-left: 20px'>base.py</h4>"
      ],
      "text/plain": [
       "<IPython.core.display.HTML object>"
      ]
     },
     "metadata": {},
     "output_type": "display_data"
    },
    {
     "data": {
      "text/html": [
       "<div style='color: green; margin-left: 30px;'>Success running isort</div>"
      ],
      "text/plain": [
       "<IPython.core.display.HTML object>"
      ]
     },
     "metadata": {},
     "output_type": "display_data"
    },
    {
     "data": {
      "text/html": [
       "<div style='color: green; margin-left: 30px;'>Success running flake8</div>"
      ],
      "text/plain": [
       "<IPython.core.display.HTML object>"
      ]
     },
     "metadata": {},
     "output_type": "display_data"
    },
    {
     "data": {
      "text/html": [
       "<div style='color: green; margin-left: 30px;'>Success running black</div>"
      ],
      "text/plain": [
       "<IPython.core.display.HTML object>"
      ]
     },
     "metadata": {},
     "output_type": "display_data"
    },
    {
     "data": {
      "text/html": [
       "<div style='color: green; margin-left: 30px;'>Success running mypy</div>"
      ],
      "text/plain": [
       "<IPython.core.display.HTML object>"
      ]
     },
     "metadata": {},
     "output_type": "display_data"
    },
    {
     "data": {
      "text/html": [
       "<h4 style='margin-left: 20px'>experiment_manager.py</h4>"
      ],
      "text/plain": [
       "<IPython.core.display.HTML object>"
      ]
     },
     "metadata": {},
     "output_type": "display_data"
    },
    {
     "data": {
      "text/html": [
       "<div style='color: green; margin-left: 30px;'>Success running isort</div>"
      ],
      "text/plain": [
       "<IPython.core.display.HTML object>"
      ]
     },
     "metadata": {},
     "output_type": "display_data"
    },
    {
     "data": {
      "text/html": [
       "<div style='color: green; margin-left: 30px;'>Success running flake8</div>"
      ],
      "text/plain": [
       "<IPython.core.display.HTML object>"
      ]
     },
     "metadata": {},
     "output_type": "display_data"
    },
    {
     "data": {
      "text/html": [
       "<div style='color: green; margin-left: 30px;'>Success running black</div>"
      ],
      "text/plain": [
       "<IPython.core.display.HTML object>"
      ]
     },
     "metadata": {},
     "output_type": "display_data"
    },
    {
     "data": {
      "text/html": [
       "<div style='color: green; margin-left: 30px;'>Success running mypy</div>"
      ],
      "text/plain": [
       "<IPython.core.display.HTML object>"
      ]
     },
     "metadata": {},
     "output_type": "display_data"
    },
    {
     "data": {
      "text/html": [
       "<h4 style='margin-left: 20px'>trainers_pool.py</h4>"
      ],
      "text/plain": [
       "<IPython.core.display.HTML object>"
      ]
     },
     "metadata": {},
     "output_type": "display_data"
    },
    {
     "data": {
      "text/html": [
       "<div style='color: green; margin-left: 30px;'>Success running isort</div>"
      ],
      "text/plain": [
       "<IPython.core.display.HTML object>"
      ]
     },
     "metadata": {},
     "output_type": "display_data"
    },
    {
     "data": {
      "text/html": [
       "<div style='color: green; margin-left: 30px;'>Success running flake8</div>"
      ],
      "text/plain": [
       "<IPython.core.display.HTML object>"
      ]
     },
     "metadata": {},
     "output_type": "display_data"
    },
    {
     "data": {
      "text/html": [
       "<div style='color: green; margin-left: 30px;'>Success running black</div>"
      ],
      "text/plain": [
       "<IPython.core.display.HTML object>"
      ]
     },
     "metadata": {},
     "output_type": "display_data"
    },
    {
     "data": {
      "text/html": [
       "<div style='color: green; margin-left: 30px;'>Success running mypy</div>"
      ],
      "text/plain": [
       "<IPython.core.display.HTML object>"
      ]
     },
     "metadata": {},
     "output_type": "display_data"
    },
    {
     "data": {
      "text/html": [
       "<h3 style='margin-left: 10px'>tabular</h3>"
      ],
      "text/plain": [
       "<IPython.core.display.HTML object>"
      ]
     },
     "metadata": {},
     "output_type": "display_data"
    },
    {
     "data": {
      "text/html": [
       "<h4 style='margin-left: 20px'>__init__.py</h4>"
      ],
      "text/plain": [
       "<IPython.core.display.HTML object>"
      ]
     },
     "metadata": {},
     "output_type": "display_data"
    },
    {
     "data": {
      "text/html": [
       "<div style='color: green; margin-left: 30px;'>Success running isort</div>"
      ],
      "text/plain": [
       "<IPython.core.display.HTML object>"
      ]
     },
     "metadata": {},
     "output_type": "display_data"
    },
    {
     "data": {
      "text/html": [
       "<div style='color: green; margin-left: 30px;'>Success running flake8</div>"
      ],
      "text/plain": [
       "<IPython.core.display.HTML object>"
      ]
     },
     "metadata": {},
     "output_type": "display_data"
    },
    {
     "data": {
      "text/html": [
       "<div style='color: green; margin-left: 30px;'>Success running black</div>"
      ],
      "text/plain": [
       "<IPython.core.display.HTML object>"
      ]
     },
     "metadata": {},
     "output_type": "display_data"
    },
    {
     "data": {
      "text/html": [
       "<div style='color: green; margin-left: 30px;'>Success running mypy</div>"
      ],
      "text/plain": [
       "<IPython.core.display.HTML object>"
      ]
     },
     "metadata": {},
     "output_type": "display_data"
    },
    {
     "data": {
      "text/html": [
       "<h4 style='margin-left: 20px'>adapters_pool.py</h4>"
      ],
      "text/plain": [
       "<IPython.core.display.HTML object>"
      ]
     },
     "metadata": {},
     "output_type": "display_data"
    },
    {
     "data": {
      "text/html": [
       "<div style='color: green; margin-left: 30px;'>Success running isort</div>"
      ],
      "text/plain": [
       "<IPython.core.display.HTML object>"
      ]
     },
     "metadata": {},
     "output_type": "display_data"
    },
    {
     "data": {
      "text/html": [
       "<div style='color: green; margin-left: 30px;'>Success running flake8</div>"
      ],
      "text/plain": [
       "<IPython.core.display.HTML object>"
      ]
     },
     "metadata": {},
     "output_type": "display_data"
    },
    {
     "data": {
      "text/html": [
       "<div style='color: green; margin-left: 30px;'>Success running black</div>"
      ],
      "text/plain": [
       "<IPython.core.display.HTML object>"
      ]
     },
     "metadata": {},
     "output_type": "display_data"
    },
    {
     "data": {
      "text/html": [
       "<div style='color: green; margin-left: 30px;'>Success running mypy</div>"
      ],
      "text/plain": [
       "<IPython.core.display.HTML object>"
      ]
     },
     "metadata": {},
     "output_type": "display_data"
    },
    {
     "data": {
      "text/html": [
       "<h4 style='margin-left: 20px'>all.py</h4>"
      ],
      "text/plain": [
       "<IPython.core.display.HTML object>"
      ]
     },
     "metadata": {},
     "output_type": "display_data"
    },
    {
     "data": {
      "text/html": [
       "<div style='color: green; margin-left: 30px;'>Success running isort</div>"
      ],
      "text/plain": [
       "<IPython.core.display.HTML object>"
      ]
     },
     "metadata": {},
     "output_type": "display_data"
    },
    {
     "data": {
      "text/html": [
       "<div style='color: green; margin-left: 30px;'>Success running flake8</div>"
      ],
      "text/plain": [
       "<IPython.core.display.HTML object>"
      ]
     },
     "metadata": {},
     "output_type": "display_data"
    },
    {
     "data": {
      "text/html": [
       "<div style='color: green; margin-left: 30px;'>Success running black</div>"
      ],
      "text/plain": [
       "<IPython.core.display.HTML object>"
      ]
     },
     "metadata": {},
     "output_type": "display_data"
    },
    {
     "data": {
      "text/html": [
       "<div style='color: red; margin-left: 30px;'>Failure running mypy</div>"
      ],
      "text/plain": [
       "<IPython.core.display.HTML object>"
      ]
     },
     "metadata": {},
     "output_type": "display_data"
    },
    {
     "data": {
      "text/html": [
       "<div style='color: red; margin-left: 40px; white-space: pre-wrap;'></div>"
      ],
      "text/plain": [
       "<IPython.core.display.HTML object>"
      ]
     },
     "metadata": {},
     "output_type": "display_data"
    },
    {
     "data": {
      "text/html": [
       "<h4 style='margin-left: 20px'>data_fetcher_pool.py</h4>"
      ],
      "text/plain": [
       "<IPython.core.display.HTML object>"
      ]
     },
     "metadata": {},
     "output_type": "display_data"
    },
    {
     "data": {
      "text/html": [
       "<div style='color: green; margin-left: 30px;'>Success running isort</div>"
      ],
      "text/plain": [
       "<IPython.core.display.HTML object>"
      ]
     },
     "metadata": {},
     "output_type": "display_data"
    },
    {
     "data": {
      "text/html": [
       "<div style='color: green; margin-left: 30px;'>Success running flake8</div>"
      ],
      "text/plain": [
       "<IPython.core.display.HTML object>"
      ]
     },
     "metadata": {},
     "output_type": "display_data"
    },
    {
     "data": {
      "text/html": [
       "<div style='color: green; margin-left: 30px;'>Success running black</div>"
      ],
      "text/plain": [
       "<IPython.core.display.HTML object>"
      ]
     },
     "metadata": {},
     "output_type": "display_data"
    },
    {
     "data": {
      "text/html": [
       "<div style='color: green; margin-left: 30px;'>Success running mypy</div>"
      ],
      "text/plain": [
       "<IPython.core.display.HTML object>"
      ]
     },
     "metadata": {},
     "output_type": "display_data"
    },
    {
     "data": {
      "text/html": [
       "<h4 style='margin-left: 20px'>inference.py</h4>"
      ],
      "text/plain": [
       "<IPython.core.display.HTML object>"
      ]
     },
     "metadata": {},
     "output_type": "display_data"
    },
    {
     "data": {
      "text/html": [
       "<div style='color: green; margin-left: 30px;'>Success running isort</div>"
      ],
      "text/plain": [
       "<IPython.core.display.HTML object>"
      ]
     },
     "metadata": {},
     "output_type": "display_data"
    },
    {
     "data": {
      "text/html": [
       "<div style='color: green; margin-left: 30px;'>Success running flake8</div>"
      ],
      "text/plain": [
       "<IPython.core.display.HTML object>"
      ]
     },
     "metadata": {},
     "output_type": "display_data"
    },
    {
     "data": {
      "text/html": [
       "<div style='color: green; margin-left: 30px;'>Success running black</div>"
      ],
      "text/plain": [
       "<IPython.core.display.HTML object>"
      ]
     },
     "metadata": {},
     "output_type": "display_data"
    },
    {
     "data": {
      "text/html": [
       "<div style='color: green; margin-left: 30px;'>Success running mypy</div>"
      ],
      "text/plain": [
       "<IPython.core.display.HTML object>"
      ]
     },
     "metadata": {},
     "output_type": "display_data"
    },
    {
     "data": {
      "text/html": [
       "<h4 style='margin-left: 20px'>models_pool.py</h4>"
      ],
      "text/plain": [
       "<IPython.core.display.HTML object>"
      ]
     },
     "metadata": {},
     "output_type": "display_data"
    },
    {
     "data": {
      "text/html": [
       "<div style='color: green; margin-left: 30px;'>Success running isort</div>"
      ],
      "text/plain": [
       "<IPython.core.display.HTML object>"
      ]
     },
     "metadata": {},
     "output_type": "display_data"
    },
    {
     "data": {
      "text/html": [
       "<div style='color: green; margin-left: 30px;'>Success running flake8</div>"
      ],
      "text/plain": [
       "<IPython.core.display.HTML object>"
      ]
     },
     "metadata": {},
     "output_type": "display_data"
    },
    {
     "data": {
      "text/html": [
       "<div style='color: green; margin-left: 30px;'>Success running black</div>"
      ],
      "text/plain": [
       "<IPython.core.display.HTML object>"
      ]
     },
     "metadata": {},
     "output_type": "display_data"
    },
    {
     "data": {
      "text/html": [
       "<div style='color: green; margin-left: 30px;'>Success running mypy</div>"
      ],
      "text/plain": [
       "<IPython.core.display.HTML object>"
      ]
     },
     "metadata": {},
     "output_type": "display_data"
    },
    {
     "data": {
      "text/html": [
       "<h4 style='margin-left: 20px'>metrics_pool.py</h4>"
      ],
      "text/plain": [
       "<IPython.core.display.HTML object>"
      ]
     },
     "metadata": {},
     "output_type": "display_data"
    },
    {
     "data": {
      "text/html": [
       "<div style='color: green; margin-left: 30px;'>Success running isort</div>"
      ],
      "text/plain": [
       "<IPython.core.display.HTML object>"
      ]
     },
     "metadata": {},
     "output_type": "display_data"
    },
    {
     "data": {
      "text/html": [
       "<div style='color: green; margin-left: 30px;'>Success running flake8</div>"
      ],
      "text/plain": [
       "<IPython.core.display.HTML object>"
      ]
     },
     "metadata": {},
     "output_type": "display_data"
    },
    {
     "data": {
      "text/html": [
       "<div style='color: green; margin-left: 30px;'>Success running black</div>"
      ],
      "text/plain": [
       "<IPython.core.display.HTML object>"
      ]
     },
     "metadata": {},
     "output_type": "display_data"
    },
    {
     "data": {
      "text/html": [
       "<div style='color: green; margin-left: 30px;'>Success running mypy</div>"
      ],
      "text/plain": [
       "<IPython.core.display.HTML object>"
      ]
     },
     "metadata": {},
     "output_type": "display_data"
    },
    {
     "data": {
      "text/html": [
       "<h4 style='margin-left: 20px'>model.py</h4>"
      ],
      "text/plain": [
       "<IPython.core.display.HTML object>"
      ]
     },
     "metadata": {},
     "output_type": "display_data"
    },
    {
     "data": {
      "text/html": [
       "<div style='color: green; margin-left: 30px;'>Success running isort</div>"
      ],
      "text/plain": [
       "<IPython.core.display.HTML object>"
      ]
     },
     "metadata": {},
     "output_type": "display_data"
    },
    {
     "data": {
      "text/html": [
       "<div style='color: green; margin-left: 30px;'>Success running flake8</div>"
      ],
      "text/plain": [
       "<IPython.core.display.HTML object>"
      ]
     },
     "metadata": {},
     "output_type": "display_data"
    },
    {
     "data": {
      "text/html": [
       "<div style='color: green; margin-left: 30px;'>Success running black</div>"
      ],
      "text/plain": [
       "<IPython.core.display.HTML object>"
      ]
     },
     "metadata": {},
     "output_type": "display_data"
    },
    {
     "data": {
      "text/html": [
       "<div style='color: green; margin-left: 30px;'>Success running mypy</div>"
      ],
      "text/plain": [
       "<IPython.core.display.HTML object>"
      ]
     },
     "metadata": {},
     "output_type": "display_data"
    },
    {
     "data": {
      "text/html": [
       "<h4 style='margin-left: 20px'>full_lifecycle.py</h4>"
      ],
      "text/plain": [
       "<IPython.core.display.HTML object>"
      ]
     },
     "metadata": {},
     "output_type": "display_data"
    },
    {
     "data": {
      "text/html": [
       "<div style='color: green; margin-left: 30px;'>Success running isort</div>"
      ],
      "text/plain": [
       "<IPython.core.display.HTML object>"
      ]
     },
     "metadata": {},
     "output_type": "display_data"
    },
    {
     "data": {
      "text/html": [
       "<div style='color: green; margin-left: 30px;'>Success running flake8</div>"
      ],
      "text/plain": [
       "<IPython.core.display.HTML object>"
      ]
     },
     "metadata": {},
     "output_type": "display_data"
    },
    {
     "data": {
      "text/html": [
       "<div style='color: green; margin-left: 30px;'>Success running black</div>"
      ],
      "text/plain": [
       "<IPython.core.display.HTML object>"
      ]
     },
     "metadata": {},
     "output_type": "display_data"
    },
    {
     "data": {
      "text/html": [
       "<div style='color: green; margin-left: 30px;'>Success running mypy</div>"
      ],
      "text/plain": [
       "<IPython.core.display.HTML object>"
      ]
     },
     "metadata": {},
     "output_type": "display_data"
    },
    {
     "data": {
      "text/html": [
       "<h4 style='margin-left: 20px'>interpreter.py</h4>"
      ],
      "text/plain": [
       "<IPython.core.display.HTML object>"
      ]
     },
     "metadata": {},
     "output_type": "display_data"
    },
    {
     "data": {
      "text/html": [
       "<div style='color: green; margin-left: 30px;'>Success running isort</div>"
      ],
      "text/plain": [
       "<IPython.core.display.HTML object>"
      ]
     },
     "metadata": {},
     "output_type": "display_data"
    },
    {
     "data": {
      "text/html": [
       "<div style='color: green; margin-left: 30px;'>Success running flake8</div>"
      ],
      "text/plain": [
       "<IPython.core.display.HTML object>"
      ]
     },
     "metadata": {},
     "output_type": "display_data"
    },
    {
     "data": {
      "text/html": [
       "<div style='color: green; margin-left: 30px;'>Success running black</div>"
      ],
      "text/plain": [
       "<IPython.core.display.HTML object>"
      ]
     },
     "metadata": {},
     "output_type": "display_data"
    },
    {
     "data": {
      "text/html": [
       "<div style='color: green; margin-left: 30px;'>Success running mypy</div>"
      ],
      "text/plain": [
       "<IPython.core.display.HTML object>"
      ]
     },
     "metadata": {},
     "output_type": "display_data"
    },
    {
     "data": {
      "text/html": [
       "<h4 style='margin-left: 20px'>pipeline.py</h4>"
      ],
      "text/plain": [
       "<IPython.core.display.HTML object>"
      ]
     },
     "metadata": {},
     "output_type": "display_data"
    },
    {
     "data": {
      "text/html": [
       "<div style='color: green; margin-left: 30px;'>Success running isort</div>"
      ],
      "text/plain": [
       "<IPython.core.display.HTML object>"
      ]
     },
     "metadata": {},
     "output_type": "display_data"
    },
    {
     "data": {
      "text/html": [
       "<div style='color: green; margin-left: 30px;'>Success running flake8</div>"
      ],
      "text/plain": [
       "<IPython.core.display.HTML object>"
      ]
     },
     "metadata": {},
     "output_type": "display_data"
    },
    {
     "data": {
      "text/html": [
       "<div style='color: green; margin-left: 30px;'>Success running black</div>"
      ],
      "text/plain": [
       "<IPython.core.display.HTML object>"
      ]
     },
     "metadata": {},
     "output_type": "display_data"
    },
    {
     "data": {
      "text/html": [
       "<div style='color: green; margin-left: 30px;'>Success running mypy</div>"
      ],
      "text/plain": [
       "<IPython.core.display.HTML object>"
      ]
     },
     "metadata": {},
     "output_type": "display_data"
    },
    {
     "data": {
      "text/html": [
       "<h4 style='margin-left: 20px'>steps_pool.py</h4>"
      ],
      "text/plain": [
       "<IPython.core.display.HTML object>"
      ]
     },
     "metadata": {},
     "output_type": "display_data"
    },
    {
     "data": {
      "text/html": [
       "<div style='color: green; margin-left: 30px;'>Success running isort</div>"
      ],
      "text/plain": [
       "<IPython.core.display.HTML object>"
      ]
     },
     "metadata": {},
     "output_type": "display_data"
    },
    {
     "data": {
      "text/html": [
       "<div style='color: green; margin-left: 30px;'>Success running flake8</div>"
      ],
      "text/plain": [
       "<IPython.core.display.HTML object>"
      ]
     },
     "metadata": {},
     "output_type": "display_data"
    },
    {
     "data": {
      "text/html": [
       "<div style='color: green; margin-left: 30px;'>Success running black</div>"
      ],
      "text/plain": [
       "<IPython.core.display.HTML object>"
      ]
     },
     "metadata": {},
     "output_type": "display_data"
    },
    {
     "data": {
      "text/html": [
       "<div style='color: green; margin-left: 30px;'>Success running mypy</div>"
      ],
      "text/plain": [
       "<IPython.core.display.HTML object>"
      ]
     },
     "metadata": {},
     "output_type": "display_data"
    },
    {
     "data": {
      "text/html": [
       "<h4 style='margin-left: 20px'>tabular_data_manager.py</h4>"
      ],
      "text/plain": [
       "<IPython.core.display.HTML object>"
      ]
     },
     "metadata": {},
     "output_type": "display_data"
    },
    {
     "data": {
      "text/html": [
       "<div style='color: green; margin-left: 30px;'>Success running isort</div>"
      ],
      "text/plain": [
       "<IPython.core.display.HTML object>"
      ]
     },
     "metadata": {},
     "output_type": "display_data"
    },
    {
     "data": {
      "text/html": [
       "<div style='color: green; margin-left: 30px;'>Success running flake8</div>"
      ],
      "text/plain": [
       "<IPython.core.display.HTML object>"
      ]
     },
     "metadata": {},
     "output_type": "display_data"
    },
    {
     "data": {
      "text/html": [
       "<div style='color: green; margin-left: 30px;'>Success running black</div>"
      ],
      "text/plain": [
       "<IPython.core.display.HTML object>"
      ]
     },
     "metadata": {},
     "output_type": "display_data"
    },
    {
     "data": {
      "text/html": [
       "<div style='color: green; margin-left: 30px;'>Success running mypy</div>"
      ],
      "text/plain": [
       "<IPython.core.display.HTML object>"
      ]
     },
     "metadata": {},
     "output_type": "display_data"
    },
    {
     "data": {
      "text/html": [
       "<h4 style='margin-left: 20px'>hyperparameters_optimizer.py</h4>"
      ],
      "text/plain": [
       "<IPython.core.display.HTML object>"
      ]
     },
     "metadata": {},
     "output_type": "display_data"
    },
    {
     "data": {
      "text/html": [
       "<div style='color: green; margin-left: 30px;'>Success running isort</div>"
      ],
      "text/plain": [
       "<IPython.core.display.HTML object>"
      ]
     },
     "metadata": {},
     "output_type": "display_data"
    },
    {
     "data": {
      "text/html": [
       "<div style='color: green; margin-left: 30px;'>Success running flake8</div>"
      ],
      "text/plain": [
       "<IPython.core.display.HTML object>"
      ]
     },
     "metadata": {},
     "output_type": "display_data"
    },
    {
     "data": {
      "text/html": [
       "<div style='color: green; margin-left: 30px;'>Success running black</div>"
      ],
      "text/plain": [
       "<IPython.core.display.HTML object>"
      ]
     },
     "metadata": {},
     "output_type": "display_data"
    },
    {
     "data": {
      "text/html": [
       "<div style='color: red; margin-left: 30px;'>Failure running mypy</div>"
      ],
      "text/plain": [
       "<IPython.core.display.HTML object>"
      ]
     },
     "metadata": {},
     "output_type": "display_data"
    },
    {
     "data": {
      "text/html": [
       "<div style='color: red; margin-left: 40px; white-space: pre-wrap;'></div>"
      ],
      "text/plain": [
       "<IPython.core.display.HTML object>"
      ]
     },
     "metadata": {},
     "output_type": "display_data"
    },
    {
     "data": {
      "text/html": [
       "<h4 style='margin-left: 20px'>splitter_pool.py</h4>"
      ],
      "text/plain": [
       "<IPython.core.display.HTML object>"
      ]
     },
     "metadata": {},
     "output_type": "display_data"
    },
    {
     "data": {
      "text/html": [
       "<div style='color: green; margin-left: 30px;'>Success running isort</div>"
      ],
      "text/plain": [
       "<IPython.core.display.HTML object>"
      ]
     },
     "metadata": {},
     "output_type": "display_data"
    },
    {
     "data": {
      "text/html": [
       "<div style='color: green; margin-left: 30px;'>Success running flake8</div>"
      ],
      "text/plain": [
       "<IPython.core.display.HTML object>"
      ]
     },
     "metadata": {},
     "output_type": "display_data"
    },
    {
     "data": {
      "text/html": [
       "<div style='color: green; margin-left: 30px;'>Success running black</div>"
      ],
      "text/plain": [
       "<IPython.core.display.HTML object>"
      ]
     },
     "metadata": {},
     "output_type": "display_data"
    },
    {
     "data": {
      "text/html": [
       "<div style='color: green; margin-left: 30px;'>Success running mypy</div>"
      ],
      "text/plain": [
       "<IPython.core.display.HTML object>"
      ]
     },
     "metadata": {},
     "output_type": "display_data"
    },
    {
     "data": {
      "text/html": [
       "<h3 style='margin-left: 10px'>utils</h3>"
      ],
      "text/plain": [
       "<IPython.core.display.HTML object>"
      ]
     },
     "metadata": {},
     "output_type": "display_data"
    },
    {
     "data": {
      "text/html": [
       "<h4 style='margin-left: 20px'>MlflowLogger.py</h4>"
      ],
      "text/plain": [
       "<IPython.core.display.HTML object>"
      ]
     },
     "metadata": {},
     "output_type": "display_data"
    },
    {
     "data": {
      "text/html": [
       "<div style='color: green; margin-left: 30px;'>Success running isort</div>"
      ],
      "text/plain": [
       "<IPython.core.display.HTML object>"
      ]
     },
     "metadata": {},
     "output_type": "display_data"
    },
    {
     "data": {
      "text/html": [
       "<div style='color: green; margin-left: 30px;'>Success running flake8</div>"
      ],
      "text/plain": [
       "<IPython.core.display.HTML object>"
      ]
     },
     "metadata": {},
     "output_type": "display_data"
    },
    {
     "data": {
      "text/html": [
       "<div style='color: green; margin-left: 30px;'>Success running black</div>"
      ],
      "text/plain": [
       "<IPython.core.display.HTML object>"
      ]
     },
     "metadata": {},
     "output_type": "display_data"
    },
    {
     "data": {
      "text/html": [
       "<div style='color: green; margin-left: 30px;'>Success running mypy</div>"
      ],
      "text/plain": [
       "<IPython.core.display.HTML object>"
      ]
     },
     "metadata": {},
     "output_type": "display_data"
    },
    {
     "data": {
      "text/html": [
       "<h4 style='margin-left: 20px'>__init__.py</h4>"
      ],
      "text/plain": [
       "<IPython.core.display.HTML object>"
      ]
     },
     "metadata": {},
     "output_type": "display_data"
    },
    {
     "data": {
      "text/html": [
       "<div style='color: green; margin-left: 30px;'>Success running isort</div>"
      ],
      "text/plain": [
       "<IPython.core.display.HTML object>"
      ]
     },
     "metadata": {},
     "output_type": "display_data"
    },
    {
     "data": {
      "text/html": [
       "<div style='color: green; margin-left: 30px;'>Success running flake8</div>"
      ],
      "text/plain": [
       "<IPython.core.display.HTML object>"
      ]
     },
     "metadata": {},
     "output_type": "display_data"
    },
    {
     "data": {
      "text/html": [
       "<div style='color: green; margin-left: 30px;'>Success running black</div>"
      ],
      "text/plain": [
       "<IPython.core.display.HTML object>"
      ]
     },
     "metadata": {},
     "output_type": "display_data"
    },
    {
     "data": {
      "text/html": [
       "<div style='color: green; margin-left: 30px;'>Success running mypy</div>"
      ],
      "text/plain": [
       "<IPython.core.display.HTML object>"
      ]
     },
     "metadata": {},
     "output_type": "display_data"
    },
    {
     "data": {
      "text/html": [
       "<h3 style='margin-left: 10px'>vision</h3>"
      ],
      "text/plain": [
       "<IPython.core.display.HTML object>"
      ]
     },
     "metadata": {},
     "output_type": "display_data"
    },
    {
     "data": {
      "text/html": [
       "<h4 style='margin-left: 20px'>__init__.py</h4>"
      ],
      "text/plain": [
       "<IPython.core.display.HTML object>"
      ]
     },
     "metadata": {},
     "output_type": "display_data"
    },
    {
     "data": {
      "text/html": [
       "<div style='color: green; margin-left: 30px;'>Success running isort</div>"
      ],
      "text/plain": [
       "<IPython.core.display.HTML object>"
      ]
     },
     "metadata": {},
     "output_type": "display_data"
    },
    {
     "data": {
      "text/html": [
       "<div style='color: green; margin-left: 30px;'>Success running flake8</div>"
      ],
      "text/plain": [
       "<IPython.core.display.HTML object>"
      ]
     },
     "metadata": {},
     "output_type": "display_data"
    },
    {
     "data": {
      "text/html": [
       "<div style='color: green; margin-left: 30px;'>Success running black</div>"
      ],
      "text/plain": [
       "<IPython.core.display.HTML object>"
      ]
     },
     "metadata": {},
     "output_type": "display_data"
    },
    {
     "data": {
      "text/html": [
       "<div style='color: green; margin-left: 30px;'>Success running mypy</div>"
      ],
      "text/plain": [
       "<IPython.core.display.HTML object>"
      ]
     },
     "metadata": {},
     "output_type": "display_data"
    },
    {
     "data": {
      "text/html": [
       "<h4 style='margin-left: 20px'>all.py</h4>"
      ],
      "text/plain": [
       "<IPython.core.display.HTML object>"
      ]
     },
     "metadata": {},
     "output_type": "display_data"
    },
    {
     "data": {
      "text/html": [
       "<div style='color: green; margin-left: 30px;'>Success running isort</div>"
      ],
      "text/plain": [
       "<IPython.core.display.HTML object>"
      ]
     },
     "metadata": {},
     "output_type": "display_data"
    },
    {
     "data": {
      "text/html": [
       "<div style='color: green; margin-left: 30px;'>Success running flake8</div>"
      ],
      "text/plain": [
       "<IPython.core.display.HTML object>"
      ]
     },
     "metadata": {},
     "output_type": "display_data"
    },
    {
     "data": {
      "text/html": [
       "<div style='color: green; margin-left: 30px;'>Success running black</div>"
      ],
      "text/plain": [
       "<IPython.core.display.HTML object>"
      ]
     },
     "metadata": {},
     "output_type": "display_data"
    },
    {
     "data": {
      "text/html": [
       "<div style='color: green; margin-left: 30px;'>Success running mypy</div>"
      ],
      "text/plain": [
       "<IPython.core.display.HTML object>"
      ]
     },
     "metadata": {},
     "output_type": "display_data"
    },
    {
     "data": {
      "text/html": [
       "<h4 style='margin-left: 20px'>data.py</h4>"
      ],
      "text/plain": [
       "<IPython.core.display.HTML object>"
      ]
     },
     "metadata": {},
     "output_type": "display_data"
    },
    {
     "data": {
      "text/html": [
       "<div style='color: green; margin-left: 30px;'>Success running isort</div>"
      ],
      "text/plain": [
       "<IPython.core.display.HTML object>"
      ]
     },
     "metadata": {},
     "output_type": "display_data"
    },
    {
     "data": {
      "text/html": [
       "<div style='color: green; margin-left: 30px;'>Success running flake8</div>"
      ],
      "text/plain": [
       "<IPython.core.display.HTML object>"
      ]
     },
     "metadata": {},
     "output_type": "display_data"
    },
    {
     "data": {
      "text/html": [
       "<div style='color: green; margin-left: 30px;'>Success running black</div>"
      ],
      "text/plain": [
       "<IPython.core.display.HTML object>"
      ]
     },
     "metadata": {},
     "output_type": "display_data"
    },
    {
     "data": {
      "text/html": [
       "<div style='color: green; margin-left: 30px;'>Success running mypy</div>"
      ],
      "text/plain": [
       "<IPython.core.display.HTML object>"
      ]
     },
     "metadata": {},
     "output_type": "display_data"
    },
    {
     "data": {
      "text/html": [
       "<h4 style='margin-left: 20px'>model.py</h4>"
      ],
      "text/plain": [
       "<IPython.core.display.HTML object>"
      ]
     },
     "metadata": {},
     "output_type": "display_data"
    },
    {
     "data": {
      "text/html": [
       "<div style='color: green; margin-left: 30px;'>Success running isort</div>"
      ],
      "text/plain": [
       "<IPython.core.display.HTML object>"
      ]
     },
     "metadata": {},
     "output_type": "display_data"
    },
    {
     "data": {
      "text/html": [
       "<div style='color: green; margin-left: 30px;'>Success running flake8</div>"
      ],
      "text/plain": [
       "<IPython.core.display.HTML object>"
      ]
     },
     "metadata": {},
     "output_type": "display_data"
    },
    {
     "data": {
      "text/html": [
       "<div style='color: green; margin-left: 30px;'>Success running black</div>"
      ],
      "text/plain": [
       "<IPython.core.display.HTML object>"
      ]
     },
     "metadata": {},
     "output_type": "display_data"
    },
    {
     "data": {
      "text/html": [
       "<div style='color: green; margin-left: 30px;'>Success running mypy</div>"
      ],
      "text/plain": [
       "<IPython.core.display.HTML object>"
      ]
     },
     "metadata": {},
     "output_type": "display_data"
    },
    {
     "data": {
      "text/html": [
       "<h4 style='margin-left: 20px'>models_pool.py</h4>"
      ],
      "text/plain": [
       "<IPython.core.display.HTML object>"
      ]
     },
     "metadata": {},
     "output_type": "display_data"
    },
    {
     "data": {
      "text/html": [
       "<div style='color: green; margin-left: 30px;'>Success running isort</div>"
      ],
      "text/plain": [
       "<IPython.core.display.HTML object>"
      ]
     },
     "metadata": {},
     "output_type": "display_data"
    },
    {
     "data": {
      "text/html": [
       "<div style='color: green; margin-left: 30px;'>Success running flake8</div>"
      ],
      "text/plain": [
       "<IPython.core.display.HTML object>"
      ]
     },
     "metadata": {},
     "output_type": "display_data"
    },
    {
     "data": {
      "text/html": [
       "<div style='color: green; margin-left: 30px;'>Success running black</div>"
      ],
      "text/plain": [
       "<IPython.core.display.HTML object>"
      ]
     },
     "metadata": {},
     "output_type": "display_data"
    },
    {
     "data": {
      "text/html": [
       "<div style='color: green; margin-left: 30px;'>Success running mypy</div>"
      ],
      "text/plain": [
       "<IPython.core.display.HTML object>"
      ]
     },
     "metadata": {},
     "output_type": "display_data"
    },
    {
     "data": {
      "text/html": [
       "<h4 style='margin-left: 20px'>utils.py</h4>"
      ],
      "text/plain": [
       "<IPython.core.display.HTML object>"
      ]
     },
     "metadata": {},
     "output_type": "display_data"
    },
    {
     "data": {
      "text/html": [
       "<div style='color: green; margin-left: 30px;'>Success running isort</div>"
      ],
      "text/plain": [
       "<IPython.core.display.HTML object>"
      ]
     },
     "metadata": {},
     "output_type": "display_data"
    },
    {
     "data": {
      "text/html": [
       "<div style='color: green; margin-left: 30px;'>Success running flake8</div>"
      ],
      "text/plain": [
       "<IPython.core.display.HTML object>"
      ]
     },
     "metadata": {},
     "output_type": "display_data"
    },
    {
     "data": {
      "text/html": [
       "<div style='color: green; margin-left: 30px;'>Success running black</div>"
      ],
      "text/plain": [
       "<IPython.core.display.HTML object>"
      ]
     },
     "metadata": {},
     "output_type": "display_data"
    },
    {
     "data": {
      "text/html": [
       "<div style='color: green; margin-left: 30px;'>Success running mypy</div>"
      ],
      "text/plain": [
       "<IPython.core.display.HTML object>"
      ]
     },
     "metadata": {},
     "output_type": "display_data"
    },
    {
     "data": {
      "text/html": [
       "<table border=\"1\" class=\"dataframe\">\n",
       "  <thead>\n",
       "    <tr style=\"text-align: right;\">\n",
       "      <th></th>\n",
       "      <th>File Path</th>\n",
       "      <th>Command</th>\n",
       "      <th>Output</th>\n",
       "    </tr>\n",
       "  </thead>\n",
       "  <tbody>\n",
       "    <tr>\n",
       "      <th>0</th>\n",
       "      <td style='text-align: left;'>simpml/tabular/all.py</td>\n",
       "      <td style='text-align: left;'>mypy</td>\n",
       "      <td style='text-align: left;'></td>\n",
       "    </tr>\n",
       "    <tr>\n",
       "      <th>1</th>\n",
       "      <td style='text-align: left;'>simpml/tabular/hyperparameters_optimizer.py</td>\n",
       "      <td style='text-align: left;'>mypy</td>\n",
       "      <td style='text-align: left;'></td>\n",
       "    </tr>\n",
       "  </tbody>\n",
       "</table>"
      ],
      "text/plain": [
       "<IPython.core.display.HTML object>"
      ]
     },
     "metadata": {},
     "output_type": "display_data"
    }
   ],
   "source": [
    "failures_df = process_python_files('simpml')"
   ]
  },
  {
   "cell_type": "code",
   "execution_count": null,
   "id": "7b2ad384-b963-410a-acf4-c463613e2f09",
   "metadata": {
    "tags": []
   },
   "outputs": [
    {
     "data": {
      "text/html": [
       "<style type=\"text/css\">\n",
       "#T_9e726_row0_col7, #T_9e726_row0_col8, #T_9e726_row0_col10, #T_9e726_row0_col11, #T_9e726_row1_col9, #T_9e726_row1_col12 {\n",
       "  background-color: red;\n",
       "}\n",
       "#T_9e726_row2_col7, #T_9e726_row2_col9, #T_9e726_row2_col10, #T_9e726_row2_col11, #T_9e726_row2_col12 {\n",
       "  background-color: yellow;\n",
       "}\n",
       "#T_9e726_row2_col8 {\n",
       "  background-color: yellow;\n",
       "  background-color: green;\n",
       "}\n",
       "</style>\n",
       "<table id=\"T_9e726\">\n",
       "  <thead>\n",
       "    <tr>\n",
       "      <th class=\"blank level0\" >&nbsp;</th>\n",
       "      <th id=\"T_9e726_level0_col0\" class=\"col_heading level0 col0\" >Experiment ID</th>\n",
       "      <th id=\"T_9e726_level0_col1\" class=\"col_heading level0 col1\" >Model</th>\n",
       "      <th id=\"T_9e726_level0_col2\" class=\"col_heading level0 col2\" >Description</th>\n",
       "      <th id=\"T_9e726_level0_col3\" class=\"col_heading level0 col3\" >Data Version</th>\n",
       "      <th id=\"T_9e726_level0_col4\" class=\"col_heading level0 col4\" >Data Description</th>\n",
       "      <th id=\"T_9e726_level0_col5\" class=\"col_heading level0 col5\" >Model Params</th>\n",
       "      <th id=\"T_9e726_level0_col6\" class=\"col_heading level0 col6\" >Metric Params</th>\n",
       "      <th id=\"T_9e726_level0_col7\" class=\"col_heading level0 col7\" >Accuracy</th>\n",
       "      <th id=\"T_9e726_level0_col8\" class=\"col_heading level0 col8\" >AUC</th>\n",
       "      <th id=\"T_9e726_level0_col9\" class=\"col_heading level0 col9\" >Recall</th>\n",
       "      <th id=\"T_9e726_level0_col10\" class=\"col_heading level0 col10\" >Precision</th>\n",
       "      <th id=\"T_9e726_level0_col11\" class=\"col_heading level0 col11\" >BalancedAccuracy</th>\n",
       "      <th id=\"T_9e726_level0_col12\" class=\"col_heading level0 col12\" >F1</th>\n",
       "      <th id=\"T_9e726_level0_col13\" class=\"col_heading level0 col13\" >Run Time</th>\n",
       "    </tr>\n",
       "  </thead>\n",
       "  <tbody>\n",
       "    <tr>\n",
       "      <th id=\"T_9e726_level0_row0\" class=\"row_heading level0 row0\" >0</th>\n",
       "      <td id=\"T_9e726_row0_col0\" class=\"data row0 col0\" >617d0820</td>\n",
       "      <td id=\"T_9e726_row0_col1\" class=\"data row0 col1\" >Random Baseline Classification</td>\n",
       "      <td id=\"T_9e726_row0_col2\" class=\"data row0 col2\" >Default settings</td>\n",
       "      <td id=\"T_9e726_row0_col3\" class=\"data row0 col3\" >57ca5b45</td>\n",
       "      <td id=\"T_9e726_row0_col4\" class=\"data row0 col4\" ></td>\n",
       "      <td id=\"T_9e726_row0_col5\" class=\"data row0 col5\" >{'num_epocs': 1}</td>\n",
       "      <td id=\"T_9e726_row0_col6\" class=\"data row0 col6\" >{}</td>\n",
       "      <td id=\"T_9e726_row0_col7\" class=\"data row0 col7\" >0.558187</td>\n",
       "      <td id=\"T_9e726_row0_col8\" class=\"data row0 col8\" >0.500391</td>\n",
       "      <td id=\"T_9e726_row0_col9\" class=\"data row0 col9\" >0.336117</td>\n",
       "      <td id=\"T_9e726_row0_col10\" class=\"data row0 col10\" >0.324597</td>\n",
       "      <td id=\"T_9e726_row0_col11\" class=\"data row0 col11\" >0.500391</td>\n",
       "      <td id=\"T_9e726_row0_col12\" class=\"data row0 col12\" >0.330256</td>\n",
       "      <td id=\"T_9e726_row0_col13\" class=\"data row0 col13\" >0:00:35</td>\n",
       "    </tr>\n",
       "    <tr>\n",
       "      <th id=\"T_9e726_level0_row1\" class=\"row_heading level0 row1\" >1</th>\n",
       "      <td id=\"T_9e726_row1_col0\" class=\"data row1 col0\" >617d0820</td>\n",
       "      <td id=\"T_9e726_row1_col1\" class=\"data row1 col1\" >Naive Baseline Classification</td>\n",
       "      <td id=\"T_9e726_row1_col2\" class=\"data row1 col2\" >Default settings</td>\n",
       "      <td id=\"T_9e726_row1_col3\" class=\"data row1 col3\" >57ca5b45</td>\n",
       "      <td id=\"T_9e726_row1_col4\" class=\"data row1 col4\" ></td>\n",
       "      <td id=\"T_9e726_row1_col5\" class=\"data row1 col5\" >{'num_epocs': 1}</td>\n",
       "      <td id=\"T_9e726_row1_col6\" class=\"data row1 col6\" >{}</td>\n",
       "      <td id=\"T_9e726_row1_col7\" class=\"data row1 col7\" >0.690122</td>\n",
       "      <td id=\"T_9e726_row1_col8\" class=\"data row1 col8\" >0.555608</td>\n",
       "      <td id=\"T_9e726_row1_col9\" class=\"data row1 col9\" >0.173278</td>\n",
       "      <td id=\"T_9e726_row1_col10\" class=\"data row1 col10\" >0.572414</td>\n",
       "      <td id=\"T_9e726_row1_col11\" class=\"data row1 col11\" >0.555608</td>\n",
       "      <td id=\"T_9e726_row1_col12\" class=\"data row1 col12\" >0.266026</td>\n",
       "      <td id=\"T_9e726_row1_col13\" class=\"data row1 col13\" >0:00:39</td>\n",
       "    </tr>\n",
       "    <tr>\n",
       "      <th id=\"T_9e726_level0_row2\" class=\"row_heading level0 row2\" >2</th>\n",
       "      <td id=\"T_9e726_row2_col0\" class=\"data row2 col0\" >617d0820</td>\n",
       "      <td id=\"T_9e726_row2_col1\" class=\"data row2 col1\" >Resnet-50</td>\n",
       "      <td id=\"T_9e726_row2_col2\" class=\"data row2 col2\" >Resnet-50 Pretrained Model ImageNet</td>\n",
       "      <td id=\"T_9e726_row2_col3\" class=\"data row2 col3\" >57ca5b45</td>\n",
       "      <td id=\"T_9e726_row2_col4\" class=\"data row2 col4\" ></td>\n",
       "      <td id=\"T_9e726_row2_col5\" class=\"data row2 col5\" >{'num_epocs': 1}</td>\n",
       "      <td id=\"T_9e726_row2_col6\" class=\"data row2 col6\" >{}</td>\n",
       "      <td id=\"T_9e726_row2_col7\" class=\"data row2 col7\" >0.997294</td>\n",
       "      <td id=\"T_9e726_row2_col8\" class=\"data row2 col8\" >0.996368</td>\n",
       "      <td id=\"T_9e726_row2_col9\" class=\"data row2 col9\" >0.993737</td>\n",
       "      <td id=\"T_9e726_row2_col10\" class=\"data row2 col10\" >0.997904</td>\n",
       "      <td id=\"T_9e726_row2_col11\" class=\"data row2 col11\" >0.996368</td>\n",
       "      <td id=\"T_9e726_row2_col12\" class=\"data row2 col12\" >0.995816</td>\n",
       "      <td id=\"T_9e726_row2_col13\" class=\"data row2 col13\" >0:52:31</td>\n",
       "    </tr>\n",
       "  </tbody>\n",
       "</table>\n"
      ],
      "text/plain": [
       "<pandas.io.formats.style.Styler at 0x7f21989e1f40>"
      ]
     },
     "metadata": {},
     "output_type": "display_data"
    },
    {
     "data": {
      "text/html": [
       "<table border=\"1\" class=\"dataframe\">\n",
       "  <thead>\n",
       "    <tr style=\"text-align: left;\">\n",
       "      <th>epoch</th>\n",
       "      <th>train_loss</th>\n",
       "      <th>valid_loss</th>\n",
       "      <th>time</th>\n",
       "    </tr>\n",
       "  </thead>\n",
       "  <tbody>\n",
       "    <tr>\n",
       "      <td>0</td>\n",
       "      <td>0.140128</td>\n",
       "      <td>0.027588</td>\n",
       "      <td>10:11</td>\n",
       "    </tr>\n",
       "  </tbody>\n",
       "</table>"
      ],
      "text/plain": [
       "<IPython.core.display.HTML object>"
      ]
     },
     "metadata": {},
     "output_type": "display_data"
    },
    {
     "data": {
      "text/html": [
       "\n",
       "    <div>\n",
       "        <style>\n",
       "            /* Turns off some styling */\n",
       "            progress {\n",
       "                /* gets rid of default border in Firefox and Opera. */\n",
       "                border: none;\n",
       "                /* Needs to be in here for Safari polyfill so background images work as expected. */\n",
       "                background-size: auto;\n",
       "            }\n",
       "            .progress-bar-interrupted, .progress-bar-interrupted::-webkit-progress-bar {\n",
       "                background: #F44336;\n",
       "            }\n",
       "        </style>\n",
       "      <progress value='0' class='' max='1' style='width:300px; height:20px; vertical-align: middle;'></progress>\n",
       "      0.00% [0/1 00:00<00:00]\n",
       "    </div>\n",
       "    \n",
       "<table border=\"1\" class=\"dataframe\">\n",
       "  <thead>\n",
       "    <tr style=\"text-align: left;\">\n",
       "      <th>epoch</th>\n",
       "      <th>train_loss</th>\n",
       "      <th>valid_loss</th>\n",
       "      <th>time</th>\n",
       "    </tr>\n",
       "  </thead>\n",
       "  <tbody>\n",
       "  </tbody>\n",
       "</table><p>\n",
       "\n",
       "    <div>\n",
       "        <style>\n",
       "            /* Turns off some styling */\n",
       "            progress {\n",
       "                /* gets rid of default border in Firefox and Opera. */\n",
       "                border: none;\n",
       "                /* Needs to be in here for Safari polyfill so background images work as expected. */\n",
       "                background-size: auto;\n",
       "            }\n",
       "            .progress-bar-interrupted, .progress-bar-interrupted::-webkit-progress-bar {\n",
       "                background: #F44336;\n",
       "            }\n",
       "        </style>\n",
       "      <progress value='52' class='' max='92' style='width:300px; height:20px; vertical-align: middle;'></progress>\n",
       "      56.52% [52/92 09:21<07:11 0.0672]\n",
       "    </div>\n",
       "    "
      ],
      "text/plain": [
       "<IPython.core.display.HTML object>"
      ]
     },
     "metadata": {},
     "output_type": "display_data"
    }
   ],
   "source": [
    "failed_tests_df = run_tests()"
   ]
  },
  {
   "cell_type": "code",
   "execution_count": null,
   "id": "26de3d98-3968-4d19-93f2-21d64b1182e2",
   "metadata": {},
   "outputs": [],
   "source": []
  }
 ],
 "metadata": {
  "kernelspec": {
   "display_name": "tensorflow",
   "language": "python",
   "name": "tensorflow"
  },
  "language_info": {
   "codemirror_mode": {
    "name": "ipython",
    "version": 3
   },
   "file_extension": ".py",
   "mimetype": "text/x-python",
   "name": "python",
   "nbconvert_exporter": "python",
   "pygments_lexer": "ipython3",
   "version": "3.8.1"
  }
 },
 "nbformat": 4,
 "nbformat_minor": 5
}
